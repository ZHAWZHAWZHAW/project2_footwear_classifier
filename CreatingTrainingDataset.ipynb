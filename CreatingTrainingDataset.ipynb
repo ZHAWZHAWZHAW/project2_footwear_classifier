{
 "cells": [
  {
   "cell_type": "code",
   "execution_count": 28,
   "metadata": {},
   "outputs": [],
   "source": [
    "import shutil\n",
    "import random\n",
    "from pathlib import Path"
   ]
  },
  {
   "cell_type": "code",
   "execution_count": 29,
   "metadata": {},
   "outputs": [],
   "source": [
    "source_folder = Path(\"ut-zap50k-images-square\").resolve()\n",
    "target_folder = Path(\"ut-zap50k-images-square-small\").resolve()\n",
    "target_folder.mkdir(parents=True, exist_ok=True)\n",
    "image_limit_per_shoe_type = 500"
   ]
  },
  {
   "cell_type": "code",
   "execution_count": 30,
   "metadata": {},
   "outputs": [],
   "source": [
    "for folder in source_folder.iterdir():\n",
    "    if not folder.is_dir():\n",
    "        continue\n",
    "    if folder.name.startswith(\".\"):\n",
    "        continue\n",
    "    \n",
    "    src = [x for x in folder.glob('**/*.jpg') if x.is_file()]\n",
    "    dst_folder = target_folder / folder.name\n",
    "    dst_folder.mkdir(parents=False, exist_ok=True)\n",
    "    for f in random.sample(src, 500):  \n",
    "        dst = dst_folder / f.name\n",
    "        shutil.copy(f, dst)"
   ]
  }
 ],
 "metadata": {
  "kernelspec": {
   "display_name": "Python 3",
   "language": "python",
   "name": "python3"
  },
  "language_info": {
   "codemirror_mode": {
    "name": "ipython",
    "version": 3
   },
   "file_extension": ".py",
   "mimetype": "text/x-python",
   "name": "python",
   "nbconvert_exporter": "python",
   "pygments_lexer": "ipython3",
   "version": "3.12.1"
  }
 },
 "nbformat": 4,
 "nbformat_minor": 2
}
